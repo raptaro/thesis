{
 "cells": [
  {
   "cell_type": "code",
   "execution_count": null,
   "id": "8e78a170",
   "metadata": {},
   "outputs": [
    {
     "name": "stdout",
     "output_type": "stream",
     "text": [
      "data=[{'id': 1049, 'name': 'Ibuprocillin', 'category': 'Antiviral', 'dosage_form': 'Injection', 'strength': '337 mg', 'manufacturer': 'CSL Limited', 'indication': 'Infection', 'classification': 'Over-the-Counter', 'expiration_date': '2024-09-15', 'stocks': 185}] count=None\n"
     ]
    }
   ],
   "source": [
    "import os\n",
    "from dotenv import load_dotenv\n",
    "import sys\n",
    "sys.path.append(r\"C:\\Users\\Admin\\Documents\\GitHub\\thesis\\backend\\backend\")\n",
    "from supabase_client import supabase\n",
    "import pandas as pd\n",
    "\n",
    "load_dotenv(r\"C:\\Users\\Admin\\Documents\\GitHub\\thesis\\backend\\.env\")\n",
    "\n",
    "# Get the Supabase credentials from environment variables\n",
    "SUPABASE_URL = os.getenv(\"SUPABASE_URL\")\n",
    "SUPABASE_KEY = os.getenv(\"SUPABASE_KEY\")\n",
    "\n",
    "# Initialize the Supabase client\n",
    "from supabase import create_client\n",
    "supabase = create_client(SUPABASE_URL, SUPABASE_KEY)\n",
    "\n",
    "# Test query (optional, to confirm it's working)"
   ]
  },
  {
   "cell_type": "code",
   "execution_count": 19,
   "id": "f9a8d3e2",
   "metadata": {},
   "outputs": [],
   "source": [
    "medicines = supabase.table('medicine_medicine').select().execute()\n",
    "prescriptions = supabase.table('patient_prescription').select().execute()\n",
    "\n",
    "med_df = pd.DataFrame(medicines.data)\n",
    "pres_df = pd.DataFrame(prescriptions.data)\n",
    "#print(pres_df['medication_id'].unique())\n",
    "\n",
    "pres_df['start_date'] = pd.to_datetime(pres_df['start_date']) \n",
    "pres_df['month'] = pres_df['start_date'].dt.to_period('M').dt.to_timestamp()\n",
    "pres_df = pres_df.merge(med_df, left_on='medication_id', right_on='id', how='left')\n",
    "        "
   ]
  },
  {
   "cell_type": "code",
   "execution_count": 20,
   "id": "4966bef4",
   "metadata": {},
   "outputs": [
    {
     "name": "stdout",
     "output_type": "stream",
     "text": [
      "    id_x  medication_id  dosage      frequency start_date    end_date  \\\n",
      "0    143           1052  802 mg  Every 4 hours 2025-03-22  2025-03-28   \n",
      "1    144           1050  333 mg  Every 8 hours 2025-03-21  2025-03-24   \n",
      "2    145           1056  954 mg    Twice a day 2025-04-19  2025-04-30   \n",
      "3    146           1050  333 mg    Twice a day 2025-04-19  2025-04-30   \n",
      "4    150           1056  954 mg    Twice a day 2025-04-29  2025-04-29   \n",
      "5    151           1056  954 mg    Twice daily 2025-04-29  2025-04-29   \n",
      "6    152           1048  938 mg    Twice daily 2025-04-29  2025-04-29   \n",
      "7    153           1056  954 mg    Twice Daily 2025-04-30  2025-04-30   \n",
      "8    154           1064  861 mg    Twice Daily 2025-04-30  2025-04-30   \n",
      "9    155           1056  954 mg    Twice daily 2025-05-04  2025-06-04   \n",
      "10   156           1056  954 mg          twice 2025-05-16  2025-06-16   \n",
      "11   157           1061  440 mg          Twice 2025-05-29  2025-06-29   \n",
      "12   158           1056  954 mg            twe 2025-05-30  2025-06-30   \n",
      "13   159           1056  954 mg          Twice 2025-05-30  2025-06-30   \n",
      "14   160           1056  954 mg           atew 2025-05-30  2025-06-30   \n",
      "15   161           1056  954 mg          twice 2025-05-30  2008-06-17   \n",
      "16   162           1056  954 mg          twice 2025-05-30  2025-06-30   \n",
      "17   163           1056  954 mg   twice  a day 2025-06-22  2025-07-22   \n",
      "18   164           1050  333 mg          twice 2025-07-14  2025-08-14   \n",
      "\n",
      "           patient_id  quantity      month  id_y         name      category  \\\n",
      "0            6ND1F8G3        40 2025-03-01  1052  Amoxicillin    Antifungal   \n",
      "1            6ND1F8G3         5 2025-03-01  1050   Dextrophen    Antibiotic   \n",
      "2            6ND1F8G3        40 2025-04-01  1056    Cefcillin   Antipyretic   \n",
      "3            6ND1F8G3        40 2025-04-01  1050   Dextrophen    Antibiotic   \n",
      "4            F21SYTXL        30 2025-04-01  1056    Cefcillin   Antipyretic   \n",
      "5            MHU38MZ3        30 2025-04-01  1056    Cefcillin   Antipyretic   \n",
      "6            MHU38MZ3        30 2025-04-01  1048  Acetocillin  Antidiabetic   \n",
      "7            B7ZAN1F5        30 2025-04-01  1056    Cefcillin   Antipyretic   \n",
      "8            B7ZAN1F5        30 2025-04-01  1064  Amoxiprofen     Antiviral   \n",
      "9            AHLZZZAT        30 2025-05-01  1056    Cefcillin   Antipyretic   \n",
      "10           W6IVWY67        30 2025-05-01  1056    Cefcillin   Antipyretic   \n",
      "11           MHU38MZ3        30 2025-05-01  1061       Cefmet    Antifungal   \n",
      "12           3X5AMVPV        12 2025-05-01  1056    Cefcillin   Antipyretic   \n",
      "13           6ND1F8G3        30 2025-05-01  1056    Cefcillin   Antipyretic   \n",
      "14           6ND1F8G3        40 2025-05-01  1056    Cefcillin   Antipyretic   \n",
      "15     cavel-02000100        30 2025-05-01  1056    Cefcillin   Antipyretic   \n",
      "16  bitancur-02000101        30 2025-05-01  1056    Cefcillin   Antipyretic   \n",
      "17           6ND1F8G3        70 2025-06-01  1056    Cefcillin   Antipyretic   \n",
      "18           L27TVOS2        70 2025-07-01  1050   Dextrophen    Antibiotic   \n",
      "\n",
      "   dosage_form strength                           manufacturer  indication  \\\n",
      "0       Tablet   802 mg    Teva Pharmaceutical Industries Ltd.       Wound   \n",
      "1     Ointment   333 mg                      Johnson & Johnson       Wound   \n",
      "2       Tablet   954 mg  Takeda Pharmaceutical Company Limited      Fungus   \n",
      "3     Ointment   333 mg                      Johnson & Johnson       Wound   \n",
      "4       Tablet   954 mg  Takeda Pharmaceutical Company Limited      Fungus   \n",
      "5       Tablet   954 mg  Takeda Pharmaceutical Company Limited      Fungus   \n",
      "6        Cream   938 mg                       Roche Holding AG       Virus   \n",
      "7       Tablet   954 mg  Takeda Pharmaceutical Company Limited      Fungus   \n",
      "8     Ointment   861 mg                       Novo Nordisk A/S    Diabetes   \n",
      "9       Tablet   954 mg  Takeda Pharmaceutical Company Limited      Fungus   \n",
      "10      Tablet   954 mg  Takeda Pharmaceutical Company Limited      Fungus   \n",
      "11      Tablet   440 mg                        AstraZeneca plc  Depression   \n",
      "12      Tablet   954 mg  Takeda Pharmaceutical Company Limited      Fungus   \n",
      "13      Tablet   954 mg  Takeda Pharmaceutical Company Limited      Fungus   \n",
      "14      Tablet   954 mg  Takeda Pharmaceutical Company Limited      Fungus   \n",
      "15      Tablet   954 mg  Takeda Pharmaceutical Company Limited      Fungus   \n",
      "16      Tablet   954 mg  Takeda Pharmaceutical Company Limited      Fungus   \n",
      "17      Tablet   954 mg  Takeda Pharmaceutical Company Limited      Fungus   \n",
      "18    Ointment   333 mg                      Johnson & Johnson       Wound   \n",
      "\n",
      "      classification expiration_date  stocks  \n",
      "0   Over-the-Counter      2025-08-15     664  \n",
      "1       Prescription      2026-02-28     400  \n",
      "2   Over-the-Counter      2026-01-15     270  \n",
      "3       Prescription      2026-02-28     400  \n",
      "4   Over-the-Counter      2026-01-15     270  \n",
      "5   Over-the-Counter      2026-01-15     270  \n",
      "6   Over-the-Counter      2025-06-30     410  \n",
      "7   Over-the-Counter      2026-01-15     270  \n",
      "8       Prescription      2025-08-01     300  \n",
      "9   Over-the-Counter      2026-01-15     270  \n",
      "10  Over-the-Counter      2026-01-15     270  \n",
      "11      Prescription      2026-03-15     178  \n",
      "12  Over-the-Counter      2026-01-15     270  \n",
      "13  Over-the-Counter      2026-01-15     270  \n",
      "14  Over-the-Counter      2026-01-15     270  \n",
      "15  Over-the-Counter      2026-01-15     270  \n",
      "16  Over-the-Counter      2026-01-15     270  \n",
      "17  Over-the-Counter      2026-01-15     270  \n",
      "18      Prescription      2026-02-28     400  \n"
     ]
    }
   ],
   "source": [
    "print(pres_df)"
   ]
  },
  {
   "cell_type": "code",
   "execution_count": null,
   "id": "30eac3a0",
   "metadata": {},
   "outputs": [],
   "source": [
    "from sklearn.model_selection import TimeSeriesSplit\n",
    "\n",
    "n_splits = 5\n",
    "ts = TimeSeriesSplit(n_splits=n_splits)\n",
    "\n",
    "for train_index, test_index in ts.split(pres_df):\n",
    "    train_data, test_data = pres_df.iloc[train_index], pres_df.iloc[test_index]\n",
    "    "
   ]
  }
 ],
 "metadata": {
  "kernelspec": {
   "display_name": ".venv",
   "language": "python",
   "name": "python3"
  },
  "language_info": {
   "codemirror_mode": {
    "name": "ipython",
    "version": 3
   },
   "file_extension": ".py",
   "mimetype": "text/x-python",
   "name": "python",
   "nbconvert_exporter": "python",
   "pygments_lexer": "ipython3",
   "version": "3.13.5"
  }
 },
 "nbformat": 4,
 "nbformat_minor": 5
}
